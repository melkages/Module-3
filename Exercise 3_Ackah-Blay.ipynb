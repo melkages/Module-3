{
 "cells": [
  {
   "cell_type": "code",
   "execution_count": 1,
   "id": "3fe5f569",
   "metadata": {},
   "outputs": [
    {
     "name": "stdout",
     "output_type": "stream",
     "text": [
      "melki\n"
     ]
    }
   ],
   "source": [
    "#display my name\n",
    "myName = \"melki\"\n",
    "print(myName)"
   ]
  },
  {
   "cell_type": "code",
   "execution_count": 2,
   "id": "86dc6ed1",
   "metadata": {},
   "outputs": [
    {
     "name": "stdout",
     "output_type": "stream",
     "text": [
      "8\n"
     ]
    }
   ],
   "source": [
    "#display month\n",
    "month = 8\n",
    "print(month)"
   ]
  },
  {
   "cell_type": "code",
   "execution_count": 3,
   "id": "1ffc8d84",
   "metadata": {},
   "outputs": [
    {
     "name": "stdout",
     "output_type": "stream",
     "text": [
      "3.2\n"
     ]
    }
   ],
   "source": [
    "#display gpa\n",
    "gpa = 3.2\n",
    "print(gpa)"
   ]
  },
  {
   "cell_type": "code",
   "execution_count": 5,
   "id": "f1162818",
   "metadata": {},
   "outputs": [
    {
     "name": "stdout",
     "output_type": "stream",
     "text": [
      "Name: melki\n",
      "Month: 8\n",
      "gpa: 3.2\n"
     ]
    }
   ],
   "source": [
    "#display all\n",
    "print(\"Name: \" + myName + \"\\nMonth: \" + str(month) + \"\\ngpa: \" + str(gpa))"
   ]
  },
  {
   "cell_type": "code",
   "execution_count": null,
   "id": "4214b9c0",
   "metadata": {},
   "outputs": [],
   "source": []
  }
 ],
 "metadata": {
  "kernelspec": {
   "display_name": "Python 3",
   "language": "python",
   "name": "python3"
  },
  "language_info": {
   "codemirror_mode": {
    "name": "ipython",
    "version": 3
   },
   "file_extension": ".py",
   "mimetype": "text/x-python",
   "name": "python",
   "nbconvert_exporter": "python",
   "pygments_lexer": "ipython3",
   "version": "3.8.8"
  }
 },
 "nbformat": 4,
 "nbformat_minor": 5
}
